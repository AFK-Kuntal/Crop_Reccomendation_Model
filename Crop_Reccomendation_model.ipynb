{
 "cells": [
  {
   "cell_type": "code",
   "execution_count": 48,
   "metadata": {},
   "outputs": [],
   "source": [
    "import numpy as np\n",
    "import pandas as pd\n",
    "import matplotlib.pyplot as plt"
   ]
  },
  {
   "cell_type": "code",
   "execution_count": 49,
   "metadata": {},
   "outputs": [
    {
     "name": "stdout",
     "output_type": "stream",
     "text": [
      "    N   P   K  temperature   humidity        ph    rainfall label\n",
      "0  90  42  43    20.879744  82.002744  6.502985  202.935536  rice\n",
      "1  85  58  41    21.770462  80.319644  7.038096  226.655537  rice\n",
      "2  60  55  44    23.004459  82.320763  7.840207  263.964248  rice\n",
      "3  74  35  40    26.491096  80.158363  6.980401  242.864034  rice\n",
      "4  78  42  42    20.130175  81.604873  7.628473  262.717340  rice\n"
     ]
    }
   ],
   "source": [
    "data = pd.read_csv(\"Crop_recommendation.csv\")\n",
    "print(data.head(5))\n",
    "x=data.iloc[:,:-1].values\n",
    "y=data.iloc[:,-1].values\n"
   ]
  },
  {
   "cell_type": "code",
   "execution_count": 50,
   "metadata": {},
   "outputs": [],
   "source": [
    "from sklearn.model_selection import train_test_split\n",
    "x_train,x_test,y_train,y_test=train_test_split(x,y,test_size=0.3,random_state=0)"
   ]
  },
  {
   "cell_type": "code",
   "execution_count": 51,
   "metadata": {},
   "outputs": [],
   "source": [
    "from sklearn.preprocessing import StandardScaler\n",
    "sc=StandardScaler()\n",
    "x_train=sc.fit_transform(x_train)\n",
    "x_test=sc.fit_transform(x_test)"
   ]
  },
  {
   "cell_type": "code",
   "execution_count": 52,
   "metadata": {},
   "outputs": [
    {
     "name": "stdout",
     "output_type": "stream",
     "text": [
      "cross validation score for k1 is \n",
      "0.974025974025974\n",
      "cross validation score for k3 is \n",
      "0.9720779220779221\n",
      "cross validation score for k5 is \n",
      "0.9668831168831169\n",
      "cross validation score for k7 is \n",
      "0.962987012987013\n",
      "cross validation score for k9 is \n",
      "0.9558441558441558\n",
      "cross validation score for k11 is \n",
      "0.9525974025974027\n",
      "cross validation score for k13 is \n",
      "0.9435064935064936\n",
      "cross validation score for k15 is \n",
      "0.9376623376623379\n",
      "cross validation score for k17 is \n",
      "0.9376623376623376\n",
      "cross validation score for k19 is \n",
      "0.9305194805194805\n",
      "cross validation score for k21 is \n",
      "0.9253246753246753\n",
      "cross validation score for k23 is \n",
      "0.9168831168831169\n",
      "cross validation score for k25 is \n",
      "0.9116883116883117\n",
      "cross validation score for k27 is \n",
      "0.9077922077922077\n",
      "cross validation score for k29 is \n",
      "0.9051948051948052\n"
     ]
    }
   ],
   "source": [
    "from sklearn.neighbors import KNeighborsClassifier\n",
    "from sklearn.model_selection import cross_val_score\n",
    "for i in range(1,30,2):\n",
    "    Knn=KNeighborsClassifier(n_neighbors=i)\n",
    "    score=cross_val_score(Knn,x_train,y_train,cv=5,scoring=\"accuracy\")\n",
    "    print(f\"cross validation score for k{i} is \")\n",
    "    print(score.mean())\n",
    "    "
   ]
  },
  {
   "cell_type": "code",
   "execution_count": 53,
   "metadata": {},
   "outputs": [],
   "source": [
    "knn=KNeighborsClassifier(n_neighbors=5)\n",
    "knn.fit(x_train,y_train)\n",
    "y_pred=knn.predict(x_test)"
   ]
  },
  {
   "cell_type": "code",
   "execution_count": 54,
   "metadata": {},
   "outputs": [
    {
     "name": "stdout",
     "output_type": "stream",
     "text": [
      "accuracy of KNN\n",
      "97.57575757575758%\n",
      "              precision    recall  f1-score   support\n",
      "\n",
      "       apple       1.00      1.00      1.00        28\n",
      "      banana       1.00      1.00      1.00        30\n",
      "   blackgram       0.97      0.97      0.97        31\n",
      "    chickpea       1.00      1.00      1.00        34\n",
      "     coconut       1.00      0.96      0.98        26\n",
      "      coffee       1.00      1.00      1.00        29\n",
      "      cotton       0.97      1.00      0.98        28\n",
      "      grapes       1.00      1.00      1.00        30\n",
      "        jute       0.82      1.00      0.90        31\n",
      " kidneybeans       0.93      1.00      0.96        26\n",
      "      lentil       0.92      1.00      0.96        22\n",
      "       maize       1.00      0.96      0.98        27\n",
      "       mango       1.00      1.00      1.00        28\n",
      "   mothbeans       1.00      0.94      0.97        36\n",
      "    mungbean       1.00      1.00      1.00        29\n",
      "   muskmelon       1.00      1.00      1.00        30\n",
      "      orange       1.00      0.94      0.97        34\n",
      "      papaya       1.00      0.95      0.97        39\n",
      "  pigeonpeas       1.00      0.93      0.96        28\n",
      " pomegranate       0.91      1.00      0.96        32\n",
      "        rice       1.00      0.86      0.93        37\n",
      "  watermelon       1.00      1.00      1.00        25\n",
      "\n",
      "    accuracy                           0.98       660\n",
      "   macro avg       0.98      0.98      0.98       660\n",
      "weighted avg       0.98      0.98      0.98       660\n",
      "\n"
     ]
    }
   ],
   "source": [
    "from sklearn.metrics import accuracy_score,classification_report\n",
    "print(\"accuracy of KNN\")\n",
    "print(f\"{accuracy_score(y_test,y_pred)*100}%\")\n",
    "print(classification_report(y_test,y_pred))"
   ]
  },
  {
   "cell_type": "code",
   "execution_count": 55,
   "metadata": {},
   "outputs": [
    {
     "name": "stdout",
     "output_type": "stream",
     "text": [
      "5 Fold cv score for Naive Bayes is:-\n",
      "99.48051948051948%\n",
      "accuracy of Gaussian Naive Bayes\n",
      "99.39393939393939%\n",
      "              precision    recall  f1-score   support\n",
      "\n",
      "       apple       1.00      1.00      1.00        28\n",
      "      banana       1.00      1.00      1.00        30\n",
      "   blackgram       1.00      0.97      0.98        31\n",
      "    chickpea       1.00      1.00      1.00        34\n",
      "     coconut       1.00      1.00      1.00        26\n",
      "      coffee       1.00      1.00      1.00        29\n",
      "      cotton       1.00      1.00      1.00        28\n",
      "      grapes       1.00      1.00      1.00        30\n",
      "        jute       0.94      0.97      0.95        31\n",
      " kidneybeans       1.00      1.00      1.00        26\n",
      "      lentil       0.96      1.00      0.98        22\n",
      "       maize       1.00      1.00      1.00        27\n",
      "       mango       1.00      1.00      1.00        28\n",
      "   mothbeans       1.00      1.00      1.00        36\n",
      "    mungbean       1.00      1.00      1.00        29\n",
      "   muskmelon       1.00      1.00      1.00        30\n",
      "      orange       1.00      1.00      1.00        34\n",
      "      papaya       1.00      1.00      1.00        39\n",
      "  pigeonpeas       1.00      1.00      1.00        28\n",
      " pomegranate       1.00      1.00      1.00        32\n",
      "        rice       0.97      0.95      0.96        37\n",
      "  watermelon       1.00      1.00      1.00        25\n",
      "\n",
      "    accuracy                           0.99       660\n",
      "   macro avg       0.99      0.99      0.99       660\n",
      "weighted avg       0.99      0.99      0.99       660\n",
      "\n"
     ]
    }
   ],
   "source": [
    "from sklearn.naive_bayes import GaussianNB\n",
    "gnb=GaussianNB()\n",
    "gnb.fit(x_train,y_train)\n",
    "y_pred1=gnb.predict(x_test)\n",
    "\n",
    "sc=cross_val_score(gnb,x_train,y_train,cv=5,scoring=\"accuracy\")\n",
    "print(\"5 Fold cv score for Naive Bayes is:-\")\n",
    "print(f\"{sc.mean()*100}%\")\n",
    "\n",
    "print(\"accuracy of Gaussian Naive Bayes\")\n",
    "print(f\"{accuracy_score(y_test,y_pred1)*100}%\")\n",
    "\n",
    "print(classification_report(y_test,y_pred1))\n",
    "\n"
   ]
  },
  {
   "cell_type": "code",
   "execution_count": 56,
   "metadata": {},
   "outputs": [
    {
     "data": {
      "text/plain": [
       "array(['pigeonpeas'], dtype='<U11')"
      ]
     },
     "execution_count": 56,
     "metadata": {},
     "output_type": "execute_result"
    }
   ],
   "source": [
    "gnb.predict([[85,20,12,50,100,4,100]])"
   ]
  },
  {
   "cell_type": "code",
   "execution_count": 57,
   "metadata": {},
   "outputs": [
    {
     "data": {
      "text/plain": [
       "['GNBClassifier.pkl']"
      ]
     },
     "execution_count": 57,
     "metadata": {},
     "output_type": "execute_result"
    }
   ],
   "source": [
    "clf=GaussianNB()\n",
    "clf.fit(x,y)\n",
    "import pickle\n",
    "from joblib import dump, load\n",
    "dump(clf, 'GNBClassifier.pkl')"
   ]
  }
 ],
 "metadata": {
  "kernelspec": {
   "display_name": "Python 3",
   "language": "python",
   "name": "python3"
  },
  "language_info": {
   "codemirror_mode": {
    "name": "ipython",
    "version": 3
   },
   "file_extension": ".py",
   "mimetype": "text/x-python",
   "name": "python",
   "nbconvert_exporter": "python",
   "pygments_lexer": "ipython3",
   "version": "3.11.3"
  }
 },
 "nbformat": 4,
 "nbformat_minor": 2
}
